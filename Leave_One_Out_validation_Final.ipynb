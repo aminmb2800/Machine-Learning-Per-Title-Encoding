{
 "cells": [
  {
   "cell_type": "code",
   "execution_count": 16,
   "metadata": {},
   "outputs": [
    {
     "data": {
      "text/html": [
       "<div>\n",
       "<style scoped>\n",
       "    .dataframe tbody tr th:only-of-type {\n",
       "        vertical-align: middle;\n",
       "    }\n",
       "\n",
       "    .dataframe tbody tr th {\n",
       "        vertical-align: top;\n",
       "    }\n",
       "\n",
       "    .dataframe thead th {\n",
       "        text-align: right;\n",
       "    }\n",
       "</style>\n",
       "<table border=\"1\" class=\"dataframe\">\n",
       "  <thead>\n",
       "    <tr style=\"text-align: right;\">\n",
       "      <th></th>\n",
       "      <th>c_scene_change_ffmpeg_ratio30</th>\n",
       "      <th>s_duration</th>\n",
       "      <th>s_video_id</th>\n",
       "      <th>e_framerate</th>\n",
       "      <th>s_height</th>\n",
       "      <th>s_storage_size</th>\n",
       "      <th>encode_WidthHeight</th>\n",
       "      <th>t_average_bitrate</th>\n",
       "      <th>e_crf</th>\n",
       "      <th>s_width</th>\n",
       "      <th>t_average_vmaf</th>\n",
       "    </tr>\n",
       "  </thead>\n",
       "  <tbody>\n",
       "    <tr>\n",
       "      <th>0</th>\n",
       "      <td>10.224852</td>\n",
       "      <td>65</td>\n",
       "      <td>8</td>\n",
       "      <td>50.0</td>\n",
       "      <td>1080</td>\n",
       "      <td>521709628</td>\n",
       "      <td>2073600</td>\n",
       "      <td>31214</td>\n",
       "      <td>18</td>\n",
       "      <td>1920</td>\n",
       "      <td>97.204616</td>\n",
       "    </tr>\n",
       "    <tr>\n",
       "      <th>1</th>\n",
       "      <td>10.224852</td>\n",
       "      <td>65</td>\n",
       "      <td>8</td>\n",
       "      <td>50.0</td>\n",
       "      <td>1080</td>\n",
       "      <td>521709628</td>\n",
       "      <td>230400</td>\n",
       "      <td>2750</td>\n",
       "      <td>18</td>\n",
       "      <td>1920</td>\n",
       "      <td>67.255472</td>\n",
       "    </tr>\n",
       "    <tr>\n",
       "      <th>2</th>\n",
       "      <td>10.224852</td>\n",
       "      <td>65</td>\n",
       "      <td>8</td>\n",
       "      <td>50.0</td>\n",
       "      <td>1080</td>\n",
       "      <td>521709628</td>\n",
       "      <td>921600</td>\n",
       "      <td>10777</td>\n",
       "      <td>18</td>\n",
       "      <td>1920</td>\n",
       "      <td>90.423618</td>\n",
       "    </tr>\n",
       "    <tr>\n",
       "      <th>3</th>\n",
       "      <td>10.224852</td>\n",
       "      <td>65</td>\n",
       "      <td>8</td>\n",
       "      <td>50.0</td>\n",
       "      <td>1080</td>\n",
       "      <td>521709628</td>\n",
       "      <td>518400</td>\n",
       "      <td>5990</td>\n",
       "      <td>18</td>\n",
       "      <td>1920</td>\n",
       "      <td>83.276829</td>\n",
       "    </tr>\n",
       "    <tr>\n",
       "      <th>4</th>\n",
       "      <td>10.224852</td>\n",
       "      <td>65</td>\n",
       "      <td>8</td>\n",
       "      <td>50.0</td>\n",
       "      <td>1080</td>\n",
       "      <td>521709628</td>\n",
       "      <td>331776</td>\n",
       "      <td>3766</td>\n",
       "      <td>18</td>\n",
       "      <td>1920</td>\n",
       "      <td>75.562682</td>\n",
       "    </tr>\n",
       "  </tbody>\n",
       "</table>\n",
       "</div>"
      ],
      "text/plain": [
       "   c_scene_change_ffmpeg_ratio30  s_duration  s_video_id  e_framerate  \\\n",
       "0                      10.224852          65           8         50.0   \n",
       "1                      10.224852          65           8         50.0   \n",
       "2                      10.224852          65           8         50.0   \n",
       "3                      10.224852          65           8         50.0   \n",
       "4                      10.224852          65           8         50.0   \n",
       "\n",
       "   s_height  s_storage_size  encode_WidthHeight  t_average_bitrate  e_crf  \\\n",
       "0      1080       521709628             2073600              31214     18   \n",
       "1      1080       521709628              230400               2750     18   \n",
       "2      1080       521709628              921600              10777     18   \n",
       "3      1080       521709628              518400               5990     18   \n",
       "4      1080       521709628              331776               3766     18   \n",
       "\n",
       "   s_width  t_average_vmaf  \n",
       "0     1920       97.204616  \n",
       "1     1920       67.255472  \n",
       "2     1920       90.423618  \n",
       "3     1920       83.276829  \n",
       "4     1920       75.562682  "
      ]
     },
     "execution_count": 16,
     "metadata": {},
     "output_type": "execute_result"
    }
   ],
   "source": [
    "from sklearn.metrics import explained_variance_score\n",
    "from sklearn.model_selection import cross_validate,train_test_split\n",
    "from sklearn import preprocessing, svm\n",
    "from sklearn.linear_model import LinearRegression\n",
    "from numpy import genfromtxt\n",
    "from sklearn.cluster import DBSCAN\n",
    "from sklearn.ensemble import RandomForestRegressor\n",
    "import pandas as pd\n",
    "import numpy as np\n",
    "import matplotlib.pyplot as plt\n",
    "import math\n",
    "import warnings\n",
    "warnings.filterwarnings(\"ignore\")\n",
    "\n",
    "# Reading data from dataset file\n",
    "data_set = pd.read_csv(\"data_set.csv\") \n",
    "\n",
    "# make data frame for scenechange with specific ID\n",
    "scene_df = pd.DataFrame(columns=['s_video_id','c_scene_change_ffmpeg_ratio30'])\n",
    "\n",
    "# Calculate resolution \n",
    "encode_WidthHeight= data_set['e_width']*data_set['e_height']\n",
    "\n",
    "# division of each scene by duration in seconds\n",
    "AVG_Scene_Change= data_set['c_scene_change_ffmpeg_ratio30']*60/data_set['s_duration']\n",
    "\n",
    "# Pick desire data from data_set\n",
    "df=pd.DataFrame({'c_scene_change_ffmpeg_ratio30':AVG_Scene_Change ,\n",
    "                 's_duration': data_set['s_duration'], \n",
    "                 's_video_id':data_set['s_video_id'],\n",
    "                 'e_framerate':data_set['e_framerate'],\n",
    "                 's_height': data_set['s_height'], \n",
    "                 's_storage_size': data_set['s_storage_size'], \n",
    "                 'encode_WidthHeight': encode_WidthHeight,\n",
    "                 't_average_bitrate': data_set['t_average_bitrate'], \n",
    "                 'e_crf': data_set['e_crf'], \n",
    "                 's_width' : data_set['s_width'], \n",
    "                 't_average_vmaf': data_set['t_average_vmaf']})\n",
    "\n",
    "df.dropna(inplace=True)\n",
    "df.head()"
   ]
  },
  {
   "cell_type": "code",
   "execution_count": 17,
   "metadata": {},
   "outputs": [
    {
     "data": {
      "text/plain": [
       "(9944, 11)"
      ]
     },
     "execution_count": 17,
     "metadata": {},
     "output_type": "execute_result"
    }
   ],
   "source": [
    "# remove outliers of scene_change_ffmpeg_ratio30 by ITU-T method\n",
    "\n",
    "shape=df['c_scene_change_ffmpeg_ratio30'].shape[0]\n",
    "IQR=df['c_scene_change_ffmpeg_ratio30'].describe()[6]-df['c_scene_change_ffmpeg_ratio30'].describe()[4]\n",
    "IQR2=IQR*3\n",
    "threshold=df['c_scene_change_ffmpeg_ratio30'].describe()[6]+IQR2\n",
    "for i in range(shape):\n",
    "    if(df.iloc[i, 0:1].values[0] >= threshold):\n",
    "        df.iloc[i, 0:1]=np.nan\n",
    "\n",
    "df.dropna(inplace=True)\n",
    "df.shape"
   ]
  },
  {
   "cell_type": "code",
   "execution_count": 18,
   "metadata": {},
   "outputs": [
    {
     "data": {
      "text/plain": [
       "(8485, 11)"
      ]
     },
     "execution_count": 18,
     "metadata": {},
     "output_type": "execute_result"
    }
   ],
   "source": [
    "# remove outliers of storage_size by ITU-T method\n",
    "\n",
    "shape=df['s_storage_size'].shape[0]\n",
    "IQR=df['s_storage_size'].describe()[6]-df['s_storage_size'].describe()[4]\n",
    "IQR2=IQR*3\n",
    "threshold=df['s_storage_size'].describe()[6]+IQR2\n",
    "for i in range(shape):\n",
    "    if(df.iloc[i, 5:6].values[0] >= threshold):\n",
    "        df.iloc[i, 5:6]=np.nan\n",
    "        \n",
    "\n",
    "df.dropna(inplace=True)\n",
    "df.shape"
   ]
  },
  {
   "cell_type": "code",
   "execution_count": 19,
   "metadata": {},
   "outputs": [],
   "source": [
    "# remove outliers of duration by ITU-T method\n",
    "\n",
    "shape=df['s_duration'].shape[0]\n",
    "IQR=df['s_duration'].describe()[6]-df['s_duration'].describe()[4]\n",
    "IQR2=IQR*3\n",
    "threshold=df['s_duration'].describe()[6]+IQR2\n",
    "for i in range(shape):\n",
    "    if(df.iloc[i, 1:2].values[0] >= threshold):\n",
    "        df.iloc[i, 1:2]=np.nan\n",
    "\n",
    "df.dropna(inplace=True)\n",
    "#df.head()"
   ]
  },
  {
   "cell_type": "code",
   "execution_count": 20,
   "metadata": {},
   "outputs": [],
   "source": [
    "# one-hold-out cross validation\n",
    "\n",
    "ID = df['s_video_id'].unique()\n",
    "\n",
    "# confi & Predicted values for all used models using empty matrices\n",
    "confi_SVR = np.empty([ID.size])\n",
    "predict_SVR=np.empty([1])\n",
    "\n",
    "confi_LinearReg = np.empty([ID.size])\n",
    "predict_LinearReg=np.empty([1])\n",
    "\n",
    "confi_RF = np.empty([ID.size])\n",
    "predict_RF=np.empty([1])\n",
    "\n",
    "\n",
    "Goal_yTest = np.empty([1])\n",
    "Goal_XTest = np.empty([1,9])\n",
    "Goal_LinearReg = np.empty([1])\n",
    "Goal_RF = np.empty([1])\n",
    "\n",
    "\n",
    "New_id=pd.DataFrame()\n",
    "Old_id=pd.DataFrame()\n",
    "\n",
    "for i in range(42):\n",
    "    df_test = df[df['s_video_id'].isin(ID[i:i+1])]\n",
    "    df_train = df[df['s_video_id'].isin(ID[i:i+1])==False]\n",
    "    Old_id = df_test['s_video_id']\n",
    "\n",
    "    df_train = df_train.drop(['s_video_id'], axis=1);\n",
    "    df_test = df_test.drop(['s_video_id'], axis=1);\n",
    "    train_num = df_train.shape[0]\n",
    "\n",
    "    # Split data into train and test set\n",
    "    \n",
    "    X_train = np.array(df_train.drop(['t_average_vmaf'], 1))\n",
    "    y_train = np.array(df_train['t_average_vmaf'])\n",
    "\n",
    "    X_test = np.array(df_test.drop(['t_average_vmaf'], 1))\n",
    "    y_test = np.array(df_test['t_average_vmaf'])\n",
    "    X_test_real = X_test;\n",
    "\n",
    "    train_test = np.append(X_train,X_test,axis = 0)\n",
    "    train_test = preprocessing.scale(train_test)\n",
    "\n",
    "    X_train = train_test[0:train_num,:]\n",
    "    X_test = train_test[train_num:,:]\n",
    "\n",
    "# Create SVR model\n",
    "SVR = svm.SVR()\n",
    "SVR.fit(X_train, y_train)\n",
    "confi_SVR[i] = SVR.score(X_test, y_test)\n",
    "temp_SVR= SVR.predict(X_test)\n",
    "predict_SVR = np.append(predict_SVR,temp_SVR)\n",
    "Goal_yTest = np.append(Goal_yTest,y_test)\n",
    "Goal_XTest = np.concatenate((Goal_XTest,X_test_real), 0) \n",
    "Iden =pd.concat([New_id, Old_id], axis=0)\n",
    "\n",
    "# Create Linear Regression model\n",
    "LinearReg = LinearRegression()\n",
    "LinearReg.fit(X_train, y_train)\n",
    "confi_LinearReg[i] = LinearReg.score(X_test, y_test)\n",
    "temp_LinearReg=LinearReg.predict(X_test)\n",
    "predict_LinearReg= np.append(predict_LinearReg,temp_LinearReg)\n",
    "Goal_LinearReg = np.append(Goal_LinearReg,y_test)\n",
    "\n",
    "\n",
    "\n",
    "# Create Random Forest model\n",
    "RF = RandomForestRegressor(n_estimators = 2000, random_state = 42)\n",
    "RF.fit(X_train, y_train)\n",
    "confi_RF[i] = RF.score(X_test, y_test)\n",
    "temp_RF=RF.predict(X_test)\n",
    "predict_RF= np.append(predict_RF,temp_RF)\n",
    "Goal_RF = np.append(Goal_RF,y_test)\n",
    "\n"
   ]
  },
  {
   "cell_type": "code",
   "execution_count": 21,
   "metadata": {},
   "outputs": [],
   "source": [
    "# Make data frame for each and save to excel file\n",
    "Goal_yTest = pd.DataFrame(Goal_yTest)\n",
    "Goal_yTest.to_excel('Goal_yTest.xlsx');\n",
    "Goal_XTest = pd.DataFrame(Goal_XTest)\n",
    "Goal_XTest.to_excel('Goal_XTest.xlsx');\n",
    "predict_SVR = pd.DataFrame(predict_SVR)\n",
    "predict_SVR.to_excel('predict_SVR.xlsx');\n",
    "Goal_LinearReg = pd.DataFrame(Goal_LinearReg)\n",
    "Goal_LinearReg.to_excel('Goal_LinearReg.xlsx');\n",
    "predict_LinearReg = pd.DataFrame(predict_LinearReg)\n",
    "predict_LinearReg.to_excel('predict_LinearRegg.xlsx');\n",
    "Goal_RF = pd.DataFrame(Goal_RF)\n",
    "Goal_RF.to_excel('Goal_RF.xlsx');\n",
    "predict_RF = pd.DataFrame(predict_RF)\n",
    "predict_RF.to_excel('predict_RF.xlsx');\n",
    "Iden.to_excel('id.xlsx');"
   ]
  },
  {
   "cell_type": "code",
   "execution_count": 22,
   "metadata": {
    "scrolled": false
   },
   "outputs": [
    {
     "data": {
      "text/plain": [
       "Text(0, 0.5, 'VMAF')"
      ]
     },
     "execution_count": 22,
     "metadata": {},
     "output_type": "execute_result"
    },
    {
     "data": {
      "image/png": "[encoded data removed]",
      "text/plain": [
       "<Figure size 432x288 with 1 Axes>"
      ]
     },
     "metadata": {
      "needs_background": "light"
     },
     "output_type": "display_data"
    }
   ],
   "source": [
    "# plot each ML Method \n",
    "plt.scatter(Goal_yTest,predict_SVR,color='r')\n",
    "plt.title(\"SVR\")\n",
    "plt.xlabel(\"Bitrate\")\n",
    "plt.ylabel(\"VMAF\")"
   ]
  },
  {
   "cell_type": "code",
   "execution_count": 23,
   "metadata": {
    "scrolled": true
   },
   "outputs": [
    {
     "data": {
      "text/plain": [
       "Text(0, 0.5, 'VMAF')"
      ]
     },
     "execution_count": 23,
     "metadata": {},
     "output_type": "execute_result"
    },
    {
     "data": {
      "image/png": "[encoded data removed]",
      "text/plain": [
       "<Figure size 432x288 with 1 Axes>"
      ]
     },
     "metadata": {
      "needs_background": "light"
     },
     "output_type": "display_data"
    }
   ],
   "source": [
    "plt.scatter(Goal_LinearReg,predict_LinearReg,color='r')\n",
    "plt.title(\"Linear_Regression\")\n",
    "plt.xlabel(\"Bitrate\")\n",
    "plt.ylabel(\"VMAF\")"
   ]
  },
  {
   "cell_type": "code",
   "execution_count": 24,
   "metadata": {},
   "outputs": [
    {
     "data": {
      "text/plain": [
       "Text(0, 0.5, 'VMAF')"
      ]
     },
     "execution_count": 24,
     "metadata": {},
     "output_type": "execute_result"
    },
    {
     "data": {
      "image/png": "[encoded data removed]",
      "text/plain": [
       "<Figure size 432x288 with 1 Axes>"
      ]
     },
     "metadata": {
      "needs_background": "light"
     },
     "output_type": "display_data"
    }
   ],
   "source": [
    "plt.scatter(Goal_RF,predict_RF,color='r')\n",
    "plt.title(\"Random_Forest\")\n",
    "plt.xlabel(\"Bitrate\")\n",
    "plt.ylabel(\"VMAF\")"
   ]
  },
  {
   "cell_type": "code",
   "execution_count": null,
   "metadata": {},
   "outputs": [],
   "source": []
  },
  {
   "cell_type": "code",
   "execution_count": null,
   "metadata": {},
   "outputs": [],
   "source": []
  }
 ],
 "metadata": {
  "kernelspec": {
   "display_name": "Python 3",
   "language": "python",
   "name": "python3"
  },
  "language_info": {
   "codemirror_mode": {
    "name": "ipython",
    "version": 3
   },
   "file_extension": ".py",
   "mimetype": "text/x-python",
   "name": "python",
   "nbconvert_exporter": "python",
   "pygments_lexer": "ipython3",
   "version": "3.7.3"
  }
 },
 "nbformat": 4,
 "nbformat_minor": 2
}
