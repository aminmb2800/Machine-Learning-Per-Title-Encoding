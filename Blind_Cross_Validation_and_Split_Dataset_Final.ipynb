{
 "cells": [
  {
   "cell_type": "code",
   "execution_count": 69,
   "metadata": {},
   "outputs": [
    {
     "data": {
      "text/html": [
       "<div>\n",
       "<style scoped>\n",
       "    .dataframe tbody tr th:only-of-type {\n",
       "        vertical-align: middle;\n",
       "    }\n",
       "\n",
       "    .dataframe tbody tr th {\n",
       "        vertical-align: top;\n",
       "    }\n",
       "\n",
       "    .dataframe thead th {\n",
       "        text-align: right;\n",
       "    }\n",
       "</style>\n",
       "<table border=\"1\" class=\"dataframe\">\n",
       "  <thead>\n",
       "    <tr style=\"text-align: right;\">\n",
       "      <th></th>\n",
       "      <th>En_Res</th>\n",
       "      <th>clip_id</th>\n",
       "      <th>e_crf</th>\n",
       "      <th>t_average_bitrate</th>\n",
       "      <th>t_average_vmaf</th>\n",
       "      <th>s_duration</th>\n",
       "      <th>s_storage_size</th>\n",
       "      <th>s_height</th>\n",
       "      <th>e_framerate</th>\n",
       "    </tr>\n",
       "  </thead>\n",
       "  <tbody>\n",
       "    <tr>\n",
       "      <th>0</th>\n",
       "      <td>2073600</td>\n",
       "      <td>8</td>\n",
       "      <td>18</td>\n",
       "      <td>31214</td>\n",
       "      <td>97.204616</td>\n",
       "      <td>65</td>\n",
       "      <td>521709628</td>\n",
       "      <td>1080</td>\n",
       "      <td>50.0</td>\n",
       "    </tr>\n",
       "    <tr>\n",
       "      <th>1</th>\n",
       "      <td>230400</td>\n",
       "      <td>8</td>\n",
       "      <td>18</td>\n",
       "      <td>2750</td>\n",
       "      <td>67.255472</td>\n",
       "      <td>65</td>\n",
       "      <td>521709628</td>\n",
       "      <td>1080</td>\n",
       "      <td>50.0</td>\n",
       "    </tr>\n",
       "    <tr>\n",
       "      <th>2</th>\n",
       "      <td>921600</td>\n",
       "      <td>8</td>\n",
       "      <td>18</td>\n",
       "      <td>10777</td>\n",
       "      <td>90.423618</td>\n",
       "      <td>65</td>\n",
       "      <td>521709628</td>\n",
       "      <td>1080</td>\n",
       "      <td>50.0</td>\n",
       "    </tr>\n",
       "    <tr>\n",
       "      <th>3</th>\n",
       "      <td>518400</td>\n",
       "      <td>8</td>\n",
       "      <td>18</td>\n",
       "      <td>5990</td>\n",
       "      <td>83.276829</td>\n",
       "      <td>65</td>\n",
       "      <td>521709628</td>\n",
       "      <td>1080</td>\n",
       "      <td>50.0</td>\n",
       "    </tr>\n",
       "    <tr>\n",
       "      <th>4</th>\n",
       "      <td>331776</td>\n",
       "      <td>8</td>\n",
       "      <td>18</td>\n",
       "      <td>3766</td>\n",
       "      <td>75.562682</td>\n",
       "      <td>65</td>\n",
       "      <td>521709628</td>\n",
       "      <td>1080</td>\n",
       "      <td>50.0</td>\n",
       "    </tr>\n",
       "  </tbody>\n",
       "</table>\n",
       "</div>"
      ],
      "text/plain": [
       "    En_Res  clip_id  e_crf  t_average_bitrate  t_average_vmaf  s_duration  \\\n",
       "0  2073600        8     18              31214       97.204616          65   \n",
       "1   230400        8     18               2750       67.255472          65   \n",
       "2   921600        8     18              10777       90.423618          65   \n",
       "3   518400        8     18               5990       83.276829          65   \n",
       "4   331776        8     18               3766       75.562682          65   \n",
       "\n",
       "   s_storage_size  s_height  e_framerate  \n",
       "0       521709628      1080         50.0  \n",
       "1       521709628      1080         50.0  \n",
       "2       521709628      1080         50.0  \n",
       "3       521709628      1080         50.0  \n",
       "4       521709628      1080         50.0  "
      ]
     },
     "execution_count": 69,
     "metadata": {},
     "output_type": "execute_result"
    }
   ],
   "source": [
    "import pandas as pd\n",
    "import numpy as np\n",
    "import  math\n",
    "import matplotlib.pyplot as plt\n",
    "from sklearn.model_selection import cross_validate,train_test_split\n",
    "from sklearn import preprocessing, svm\n",
    "from sklearn.linear_model import LinearRegression\n",
    "from sklearn.metrics import mean_squared_error as MSE\n",
    "from math import sqrt\n",
    "import matplotlib.pyplot as plt\n",
    "from sklearn.ensemble import RandomForestRegressor\n",
    "\n",
    "# Read the dataset\n",
    "data_set = pd.read_csv(\"data_set.csv\") \n",
    "\n",
    "# Obtaining the resolution information for dataset\n",
    "En_Res= data_set['e_width']*data_set['e_height']\n",
    "\n",
    "# Calculate average scene change by duration based on second\n",
    "# AVG_Scene_Change= data_set['c_scene_change_ffmpeg_ratio90']*60/data_set['s_duration']\n",
    "# 'scene_change_average' : AVG_Scene_Change (in case of testing width scene change ratio )\n",
    "\n",
    "\n",
    "# selecting our desire parameters\n",
    "\n",
    "desire = pd.DataFrame({'En_Res': En_Res,\n",
    "                       'clip_id':data_set['s_video_id'],\n",
    "                       'e_crf': data_set['e_crf'],\n",
    "                       't_average_bitrate': data_set['t_average_bitrate'],\n",
    "                       't_average_vmaf': data_set['t_average_vmaf'],\n",
    "                       's_duration': data_set['s_duration'],\n",
    "                       's_storage_size': data_set['s_storage_size'],\n",
    "                       's_height': data_set['s_height'],\n",
    "                       'e_framerate':data_set['e_framerate']})\n",
    "\n",
    "desire.dropna(inplace=True)\n",
    "desire.head()\n",
    "\n"
   ]
  },
  {
   "cell_type": "code",
   "execution_count": 70,
   "metadata": {},
   "outputs": [
    {
     "data": {
      "text/html": [
       "<div>\n",
       "<style scoped>\n",
       "    .dataframe tbody tr th:only-of-type {\n",
       "        vertical-align: middle;\n",
       "    }\n",
       "\n",
       "    .dataframe tbody tr th {\n",
       "        vertical-align: top;\n",
       "    }\n",
       "\n",
       "    .dataframe thead th {\n",
       "        text-align: right;\n",
       "    }\n",
       "</style>\n",
       "<table border=\"1\" class=\"dataframe\">\n",
       "  <thead>\n",
       "    <tr style=\"text-align: right;\">\n",
       "      <th></th>\n",
       "      <th>En_Res</th>\n",
       "      <th>clip_id</th>\n",
       "      <th>e_crf</th>\n",
       "      <th>t_average_bitrate</th>\n",
       "      <th>t_average_vmaf</th>\n",
       "      <th>s_duration</th>\n",
       "      <th>s_storage_size</th>\n",
       "      <th>s_height</th>\n",
       "      <th>e_framerate</th>\n",
       "    </tr>\n",
       "  </thead>\n",
       "  <tbody>\n",
       "    <tr>\n",
       "      <th>0</th>\n",
       "      <td>2073600</td>\n",
       "      <td>8</td>\n",
       "      <td>18</td>\n",
       "      <td>31214</td>\n",
       "      <td>97.204616</td>\n",
       "      <td>65</td>\n",
       "      <td>521709628</td>\n",
       "      <td>1080</td>\n",
       "      <td>50.0</td>\n",
       "    </tr>\n",
       "    <tr>\n",
       "      <th>1</th>\n",
       "      <td>230400</td>\n",
       "      <td>8</td>\n",
       "      <td>18</td>\n",
       "      <td>2750</td>\n",
       "      <td>67.255472</td>\n",
       "      <td>65</td>\n",
       "      <td>521709628</td>\n",
       "      <td>1080</td>\n",
       "      <td>50.0</td>\n",
       "    </tr>\n",
       "    <tr>\n",
       "      <th>2</th>\n",
       "      <td>921600</td>\n",
       "      <td>8</td>\n",
       "      <td>18</td>\n",
       "      <td>10777</td>\n",
       "      <td>90.423618</td>\n",
       "      <td>65</td>\n",
       "      <td>521709628</td>\n",
       "      <td>1080</td>\n",
       "      <td>50.0</td>\n",
       "    </tr>\n",
       "    <tr>\n",
       "      <th>3</th>\n",
       "      <td>518400</td>\n",
       "      <td>8</td>\n",
       "      <td>18</td>\n",
       "      <td>5990</td>\n",
       "      <td>83.276829</td>\n",
       "      <td>65</td>\n",
       "      <td>521709628</td>\n",
       "      <td>1080</td>\n",
       "      <td>50.0</td>\n",
       "    </tr>\n",
       "    <tr>\n",
       "      <th>4</th>\n",
       "      <td>331776</td>\n",
       "      <td>8</td>\n",
       "      <td>18</td>\n",
       "      <td>3766</td>\n",
       "      <td>75.562682</td>\n",
       "      <td>65</td>\n",
       "      <td>521709628</td>\n",
       "      <td>1080</td>\n",
       "      <td>50.0</td>\n",
       "    </tr>\n",
       "  </tbody>\n",
       "</table>\n",
       "</div>"
      ],
      "text/plain": [
       "    En_Res  clip_id  e_crf  t_average_bitrate  t_average_vmaf  s_duration  \\\n",
       "0  2073600        8     18              31214       97.204616          65   \n",
       "1   230400        8     18               2750       67.255472          65   \n",
       "2   921600        8     18              10777       90.423618          65   \n",
       "3   518400        8     18               5990       83.276829          65   \n",
       "4   331776        8     18               3766       75.562682          65   \n",
       "\n",
       "   s_storage_size  s_height  e_framerate  \n",
       "0       521709628      1080         50.0  \n",
       "1       521709628      1080         50.0  \n",
       "2       521709628      1080         50.0  \n",
       "3       521709628      1080         50.0  \n",
       "4       521709628      1080         50.0  "
      ]
     },
     "execution_count": 70,
     "metadata": {},
     "output_type": "execute_result"
    }
   ],
   "source": [
    "# remove outliers of average_bitrate by ITU-T method\n",
    "\n",
    "shape=desire['t_average_bitrate'].shape[0]\n",
    "I_range=desire['t_average_bitrate'].describe()[6]-desire['t_average_bitrate'].describe()[4]\n",
    "I_range2=I_range*3\n",
    "max_threshold=desire['t_average_bitrate'].describe()[6]+I_range2\n",
    "for i in range(shape):\n",
    "    if(desire.iloc[i, 7:8].values[0] >= max_threshold):\n",
    "        desire.iloc[i, 7:8]=np.nan\n",
    "\n",
    "\n",
    "desire.dropna(inplace=True)\n",
    "desire.head()"
   ]
  },
  {
   "cell_type": "code",
   "execution_count": 71,
   "metadata": {},
   "outputs": [
    {
     "ename": "KeyError",
     "evalue": "'scene_change_average'",
     "output_type": "error",
     "traceback": [
      "\u001b[0;31m---------------------------------------------------------------------------\u001b[0m",
      "\u001b[0;31mKeyError\u001b[0m                                  Traceback (most recent call last)",
      "\u001b[0;32m~/anaconda3/lib/python3.7/site-packages/pandas/core/indexes/base.py\u001b[0m in \u001b[0;36mget_loc\u001b[0;34m(self, key, method, tolerance)\u001b[0m\n\u001b[1;32m   2656\u001b[0m             \u001b[0;32mtry\u001b[0m\u001b[0;34m:\u001b[0m\u001b[0;34m\u001b[0m\u001b[0;34m\u001b[0m\u001b[0m\n\u001b[0;32m-> 2657\u001b[0;31m                 \u001b[0;32mreturn\u001b[0m \u001b[0mself\u001b[0m\u001b[0;34m.\u001b[0m\u001b[0m_engine\u001b[0m\u001b[0;34m.\u001b[0m\u001b[0mget_loc\u001b[0m\u001b[0;34m(\u001b[0m\u001b[0mkey\u001b[0m\u001b[0;34m)\u001b[0m\u001b[0;34m\u001b[0m\u001b[0;34m\u001b[0m\u001b[0m\n\u001b[0m\u001b[1;32m   2658\u001b[0m             \u001b[0;32mexcept\u001b[0m \u001b[0mKeyError\u001b[0m\u001b[0;34m:\u001b[0m\u001b[0;34m\u001b[0m\u001b[0;34m\u001b[0m\u001b[0m\n",
      "\u001b[0;32mpandas/_libs/index.pyx\u001b[0m in \u001b[0;36mpandas._libs.index.IndexEngine.get_loc\u001b[0;34m()\u001b[0m\n",
      "\u001b[0;32mpandas/_libs/index.pyx\u001b[0m in \u001b[0;36mpandas._libs.index.IndexEngine.get_loc\u001b[0;34m()\u001b[0m\n",
      "\u001b[0;32mpandas/_libs/hashtable_class_helper.pxi\u001b[0m in \u001b[0;36mpandas._libs.hashtable.PyObjectHashTable.get_item\u001b[0;34m()\u001b[0m\n",
      "\u001b[0;32mpandas/_libs/hashtable_class_helper.pxi\u001b[0m in \u001b[0;36mpandas._libs.hashtable.PyObjectHashTable.get_item\u001b[0;34m()\u001b[0m\n",
      "\u001b[0;31mKeyError\u001b[0m: 'scene_change_average'",
      "\nDuring handling of the above exception, another exception occurred:\n",
      "\u001b[0;31mKeyError\u001b[0m                                  Traceback (most recent call last)",
      "\u001b[0;32m<ipython-input-71-3a419960c0e7>\u001b[0m in \u001b[0;36m<module>\u001b[0;34m\u001b[0m\n\u001b[1;32m      1\u001b[0m \u001b[0;31m# remove outliers of scene_change_average by ITU-T method\u001b[0m\u001b[0;34m\u001b[0m\u001b[0;34m\u001b[0m\u001b[0;34m\u001b[0m\u001b[0m\n\u001b[1;32m      2\u001b[0m \u001b[0;34m\u001b[0m\u001b[0m\n\u001b[0;32m----> 3\u001b[0;31m \u001b[0mForm\u001b[0m\u001b[0;34m=\u001b[0m\u001b[0mdesire\u001b[0m\u001b[0;34m[\u001b[0m\u001b[0;34m'scene_change_average'\u001b[0m\u001b[0;34m]\u001b[0m\u001b[0;34m.\u001b[0m\u001b[0mForm\u001b[0m\u001b[0;34m[\u001b[0m\u001b[0;36m0\u001b[0m\u001b[0;34m]\u001b[0m\u001b[0;34m\u001b[0m\u001b[0;34m\u001b[0m\u001b[0m\n\u001b[0m\u001b[1;32m      4\u001b[0m \u001b[0mI_range\u001b[0m\u001b[0;34m=\u001b[0m\u001b[0mdesire\u001b[0m\u001b[0;34m[\u001b[0m\u001b[0;34m'scene_change_average'\u001b[0m\u001b[0;34m]\u001b[0m\u001b[0;34m.\u001b[0m\u001b[0mdescribe\u001b[0m\u001b[0;34m(\u001b[0m\u001b[0;34m)\u001b[0m\u001b[0;34m[\u001b[0m\u001b[0;36m6\u001b[0m\u001b[0;34m]\u001b[0m\u001b[0;34m-\u001b[0m\u001b[0mdesire\u001b[0m\u001b[0;34m[\u001b[0m\u001b[0;34m'scene_change_average'\u001b[0m\u001b[0;34m]\u001b[0m\u001b[0;34m.\u001b[0m\u001b[0mdescribe\u001b[0m\u001b[0;34m(\u001b[0m\u001b[0;34m)\u001b[0m\u001b[0;34m[\u001b[0m\u001b[0;36m4\u001b[0m\u001b[0;34m]\u001b[0m\u001b[0;34m\u001b[0m\u001b[0;34m\u001b[0m\u001b[0m\n\u001b[1;32m      5\u001b[0m \u001b[0mI_range2\u001b[0m\u001b[0;34m=\u001b[0m\u001b[0mI_range\u001b[0m\u001b[0;34m*\u001b[0m\u001b[0;36m3\u001b[0m\u001b[0;34m\u001b[0m\u001b[0;34m\u001b[0m\u001b[0m\n",
      "\u001b[0;32m~/anaconda3/lib/python3.7/site-packages/pandas/core/frame.py\u001b[0m in \u001b[0;36m__getitem__\u001b[0;34m(self, key)\u001b[0m\n\u001b[1;32m   2925\u001b[0m             \u001b[0;32mif\u001b[0m \u001b[0mself\u001b[0m\u001b[0;34m.\u001b[0m\u001b[0mcolumns\u001b[0m\u001b[0;34m.\u001b[0m\u001b[0mnlevels\u001b[0m \u001b[0;34m>\u001b[0m \u001b[0;36m1\u001b[0m\u001b[0;34m:\u001b[0m\u001b[0;34m\u001b[0m\u001b[0;34m\u001b[0m\u001b[0m\n\u001b[1;32m   2926\u001b[0m                 \u001b[0;32mreturn\u001b[0m \u001b[0mself\u001b[0m\u001b[0;34m.\u001b[0m\u001b[0m_getitem_multilevel\u001b[0m\u001b[0;34m(\u001b[0m\u001b[0mkey\u001b[0m\u001b[0;34m)\u001b[0m\u001b[0;34m\u001b[0m\u001b[0;34m\u001b[0m\u001b[0m\n\u001b[0;32m-> 2927\u001b[0;31m             \u001b[0mindexer\u001b[0m \u001b[0;34m=\u001b[0m \u001b[0mself\u001b[0m\u001b[0;34m.\u001b[0m\u001b[0mcolumns\u001b[0m\u001b[0;34m.\u001b[0m\u001b[0mget_loc\u001b[0m\u001b[0;34m(\u001b[0m\u001b[0mkey\u001b[0m\u001b[0;34m)\u001b[0m\u001b[0;34m\u001b[0m\u001b[0;34m\u001b[0m\u001b[0m\n\u001b[0m\u001b[1;32m   2928\u001b[0m             \u001b[0;32mif\u001b[0m \u001b[0mis_integer\u001b[0m\u001b[0;34m(\u001b[0m\u001b[0mindexer\u001b[0m\u001b[0;34m)\u001b[0m\u001b[0;34m:\u001b[0m\u001b[0;34m\u001b[0m\u001b[0;34m\u001b[0m\u001b[0m\n\u001b[1;32m   2929\u001b[0m                 \u001b[0mindexer\u001b[0m \u001b[0;34m=\u001b[0m \u001b[0;34m[\u001b[0m\u001b[0mindexer\u001b[0m\u001b[0;34m]\u001b[0m\u001b[0;34m\u001b[0m\u001b[0;34m\u001b[0m\u001b[0m\n",
      "\u001b[0;32m~/anaconda3/lib/python3.7/site-packages/pandas/core/indexes/base.py\u001b[0m in \u001b[0;36mget_loc\u001b[0;34m(self, key, method, tolerance)\u001b[0m\n\u001b[1;32m   2657\u001b[0m                 \u001b[0;32mreturn\u001b[0m \u001b[0mself\u001b[0m\u001b[0;34m.\u001b[0m\u001b[0m_engine\u001b[0m\u001b[0;34m.\u001b[0m\u001b[0mget_loc\u001b[0m\u001b[0;34m(\u001b[0m\u001b[0mkey\u001b[0m\u001b[0;34m)\u001b[0m\u001b[0;34m\u001b[0m\u001b[0;34m\u001b[0m\u001b[0m\n\u001b[1;32m   2658\u001b[0m             \u001b[0;32mexcept\u001b[0m \u001b[0mKeyError\u001b[0m\u001b[0;34m:\u001b[0m\u001b[0;34m\u001b[0m\u001b[0;34m\u001b[0m\u001b[0m\n\u001b[0;32m-> 2659\u001b[0;31m                 \u001b[0;32mreturn\u001b[0m \u001b[0mself\u001b[0m\u001b[0;34m.\u001b[0m\u001b[0m_engine\u001b[0m\u001b[0;34m.\u001b[0m\u001b[0mget_loc\u001b[0m\u001b[0;34m(\u001b[0m\u001b[0mself\u001b[0m\u001b[0;34m.\u001b[0m\u001b[0m_maybe_cast_indexer\u001b[0m\u001b[0;34m(\u001b[0m\u001b[0mkey\u001b[0m\u001b[0;34m)\u001b[0m\u001b[0;34m)\u001b[0m\u001b[0;34m\u001b[0m\u001b[0;34m\u001b[0m\u001b[0m\n\u001b[0m\u001b[1;32m   2660\u001b[0m         \u001b[0mindexer\u001b[0m \u001b[0;34m=\u001b[0m \u001b[0mself\u001b[0m\u001b[0;34m.\u001b[0m\u001b[0mget_indexer\u001b[0m\u001b[0;34m(\u001b[0m\u001b[0;34m[\u001b[0m\u001b[0mkey\u001b[0m\u001b[0;34m]\u001b[0m\u001b[0;34m,\u001b[0m \u001b[0mmethod\u001b[0m\u001b[0;34m=\u001b[0m\u001b[0mmethod\u001b[0m\u001b[0;34m,\u001b[0m \u001b[0mtolerance\u001b[0m\u001b[0;34m=\u001b[0m\u001b[0mtolerance\u001b[0m\u001b[0;34m)\u001b[0m\u001b[0;34m\u001b[0m\u001b[0;34m\u001b[0m\u001b[0m\n\u001b[1;32m   2661\u001b[0m         \u001b[0;32mif\u001b[0m \u001b[0mindexer\u001b[0m\u001b[0;34m.\u001b[0m\u001b[0mndim\u001b[0m \u001b[0;34m>\u001b[0m \u001b[0;36m1\u001b[0m \u001b[0;32mor\u001b[0m \u001b[0mindexer\u001b[0m\u001b[0;34m.\u001b[0m\u001b[0msize\u001b[0m \u001b[0;34m>\u001b[0m \u001b[0;36m1\u001b[0m\u001b[0;34m:\u001b[0m\u001b[0;34m\u001b[0m\u001b[0;34m\u001b[0m\u001b[0m\n",
      "\u001b[0;32mpandas/_libs/index.pyx\u001b[0m in \u001b[0;36mpandas._libs.index.IndexEngine.get_loc\u001b[0;34m()\u001b[0m\n",
      "\u001b[0;32mpandas/_libs/index.pyx\u001b[0m in \u001b[0;36mpandas._libs.index.IndexEngine.get_loc\u001b[0;34m()\u001b[0m\n",
      "\u001b[0;32mpandas/_libs/hashtable_class_helper.pxi\u001b[0m in \u001b[0;36mpandas._libs.hashtable.PyObjectHashTable.get_item\u001b[0;34m()\u001b[0m\n",
      "\u001b[0;32mpandas/_libs/hashtable_class_helper.pxi\u001b[0m in \u001b[0;36mpandas._libs.hashtable.PyObjectHashTable.get_item\u001b[0;34m()\u001b[0m\n",
      "\u001b[0;31mKeyError\u001b[0m: 'scene_change_average'"
     ]
    }
   ],
   "source": [
    "# remove outliers of scene_change_average by ITU-T method\n",
    "\n",
    "Form=desire['scene_change_average'].Form[0]\n",
    "I_range=desire['scene_change_average'].describe()[6]-desire['scene_change_average'].describe()[4]\n",
    "I_range2=I_range*3\n",
    "max_threshold=desire['scene_change_average'].describe()[6]+I_range2\n",
    "for i in range(Form):\n",
    "    if(desire.iloc[i, 0:1].values[0] >= max_threshold):\n",
    "        desire.iloc[i, 0:1]=np.nan\n",
    "        \n",
    "desire.dropna(inplace=True)"
   ]
  },
  {
   "cell_type": "code",
   "execution_count": 72,
   "metadata": {},
   "outputs": [
    {
     "data": {
      "text/html": [
       "<div>\n",
       "<style scoped>\n",
       "    .dataframe tbody tr th:only-of-type {\n",
       "        vertical-align: middle;\n",
       "    }\n",
       "\n",
       "    .dataframe tbody tr th {\n",
       "        vertical-align: top;\n",
       "    }\n",
       "\n",
       "    .dataframe thead th {\n",
       "        text-align: right;\n",
       "    }\n",
       "</style>\n",
       "<table border=\"1\" class=\"dataframe\">\n",
       "  <thead>\n",
       "    <tr style=\"text-align: right;\">\n",
       "      <th></th>\n",
       "      <th>En_Res</th>\n",
       "      <th>clip_id</th>\n",
       "      <th>e_crf</th>\n",
       "      <th>t_average_bitrate</th>\n",
       "      <th>t_average_vmaf</th>\n",
       "      <th>s_duration</th>\n",
       "      <th>s_storage_size</th>\n",
       "      <th>s_height</th>\n",
       "      <th>e_framerate</th>\n",
       "    </tr>\n",
       "  </thead>\n",
       "  <tbody>\n",
       "    <tr>\n",
       "      <th>0</th>\n",
       "      <td>2073600</td>\n",
       "      <td>8</td>\n",
       "      <td>18</td>\n",
       "      <td>31214</td>\n",
       "      <td>97.204616</td>\n",
       "      <td>65</td>\n",
       "      <td>521709628</td>\n",
       "      <td>1080</td>\n",
       "      <td>50.0</td>\n",
       "    </tr>\n",
       "    <tr>\n",
       "      <th>1</th>\n",
       "      <td>230400</td>\n",
       "      <td>8</td>\n",
       "      <td>18</td>\n",
       "      <td>2750</td>\n",
       "      <td>67.255472</td>\n",
       "      <td>65</td>\n",
       "      <td>521709628</td>\n",
       "      <td>1080</td>\n",
       "      <td>50.0</td>\n",
       "    </tr>\n",
       "    <tr>\n",
       "      <th>2</th>\n",
       "      <td>921600</td>\n",
       "      <td>8</td>\n",
       "      <td>18</td>\n",
       "      <td>10777</td>\n",
       "      <td>90.423618</td>\n",
       "      <td>65</td>\n",
       "      <td>521709628</td>\n",
       "      <td>1080</td>\n",
       "      <td>50.0</td>\n",
       "    </tr>\n",
       "    <tr>\n",
       "      <th>3</th>\n",
       "      <td>518400</td>\n",
       "      <td>8</td>\n",
       "      <td>18</td>\n",
       "      <td>5990</td>\n",
       "      <td>83.276829</td>\n",
       "      <td>65</td>\n",
       "      <td>521709628</td>\n",
       "      <td>1080</td>\n",
       "      <td>50.0</td>\n",
       "    </tr>\n",
       "    <tr>\n",
       "      <th>4</th>\n",
       "      <td>331776</td>\n",
       "      <td>8</td>\n",
       "      <td>18</td>\n",
       "      <td>3766</td>\n",
       "      <td>75.562682</td>\n",
       "      <td>65</td>\n",
       "      <td>521709628</td>\n",
       "      <td>1080</td>\n",
       "      <td>50.0</td>\n",
       "    </tr>\n",
       "  </tbody>\n",
       "</table>\n",
       "</div>"
      ],
      "text/plain": [
       "    En_Res  clip_id  e_crf  t_average_bitrate  t_average_vmaf  s_duration  \\\n",
       "0  2073600        8     18              31214       97.204616          65   \n",
       "1   230400        8     18               2750       67.255472          65   \n",
       "2   921600        8     18              10777       90.423618          65   \n",
       "3   518400        8     18               5990       83.276829          65   \n",
       "4   331776        8     18               3766       75.562682          65   \n",
       "\n",
       "   s_storage_size  s_height  e_framerate  \n",
       "0       521709628      1080         50.0  \n",
       "1       521709628      1080         50.0  \n",
       "2       521709628      1080         50.0  \n",
       "3       521709628      1080         50.0  \n",
       "4       521709628      1080         50.0  "
      ]
     },
     "execution_count": 72,
     "metadata": {},
     "output_type": "execute_result"
    }
   ],
   "source": [
    "# remove outliers of s_duration by ITU-T method\n",
    "\n",
    "\n",
    "shape=desire['s_duration'].shape[0]\n",
    "I_range=desire['s_duration'].describe()[6]-desire['s_duration'].describe()[4]\n",
    "I_range2=I_range*1.5\n",
    "max_threshold=desire['s_duration'].describe()[6]+I_range2\n",
    "for i in range(shape):\n",
    "    if(desire.iloc[i, 1:2].values[0] >= max_threshold):\n",
    "        desire.iloc[i, 1:2]=np.nan\n",
    "\n",
    "desire.dropna(inplace=True)\n",
    "desire.head()"
   ]
  },
  {
   "cell_type": "code",
   "execution_count": 73,
   "metadata": {},
   "outputs": [
    {
     "name": "stderr",
     "output_type": "stream",
     "text": [
      "/Users/amin/anaconda3/lib/python3.7/site-packages/sklearn/preprocessing/data.py:180: UserWarning: Numerical issues were encountered when centering the data and might not be solved. Dataset may contain too large values. You may need to prescale your features.\n",
      "  warnings.warn(\"Numerical issues were encountered \"\n"
     ]
    }
   ],
   "source": [
    "# pre-processing desire data\n",
    "\n",
    "desire = desire.drop(['clip_id'], axis=1);\n",
    "\n",
    "X = np.array(desire.drop(['t_average_vmaf'], 1))\n",
    "X = preprocessing.scale(X)\n",
    "y = np.array(desire['t_average_vmaf'])\n",
    "\n",
    "# split desire data\n",
    "\n",
    "X_train, X_test, y_train, y_test = train_test_split(X, y, test_size=0.2)"
   ]
  },
  {
   "cell_type": "code",
   "execution_count": 74,
   "metadata": {},
   "outputs": [
    {
     "name": "stderr",
     "output_type": "stream",
     "text": [
      "/Users/amin/anaconda3/lib/python3.7/site-packages/sklearn/svm/base.py:196: FutureWarning: The default value of gamma will change from 'auto' to 'scale' in version 0.22 to account better for unscaled features. Set gamma explicitly to 'auto' or 'scale' to avoid this warning.\n",
      "  \"avoid this warning.\", FutureWarning)\n"
     ]
    },
    {
     "data": {
      "image/png": "[encoded data removed]",
      "text/plain": [
       "<Figure size 432x288 with 1 Axes>"
      ]
     },
     "metadata": {
      "needs_background": "light"
     },
     "output_type": "display_data"
    }
   ],
   "source": [
    "# Make SVR model\n",
    "\n",
    "SVR = svm.SVR()\n",
    "SVR.fit(X_train, y_train)\n",
    "SVR_Reg=SVR.predict(X_test)\n",
    "plt.scatter(y_test,SVR_Reg)\n",
    "plt.xlabel('Calculated vmaf')\n",
    "plt.ylabel('Predicted vmaf')\n",
    "plt.title('SVR Regression')\n",
    "desire_svr = pd.concat([pd.DataFrame(y_test) ,pd.DataFrame(SVR_Reg)], axis = 1);\n",
    "desire_svr.to_excel('SVR.xlsx');"
   ]
  },
  {
   "cell_type": "code",
   "execution_count": 75,
   "metadata": {},
   "outputs": [
    {
     "name": "stdout",
     "output_type": "stream",
     "text": [
      "Corr_SVR 0.9673724708529527\n",
      "MSE_SVR: 64.322975\n",
      "RMSE_SVR: 8.020161\n"
     ]
    }
   ],
   "source": [
    "# Calculate SVR correlation , MSE and RMSE\n",
    "\n",
    "print('Corr_SVR',np.corrcoef(y_test , SVR_Reg)[0][1])\n",
    "MSE_SVR = MSE(y_test, SVR_Reg)\n",
    "print('MSE_SVR: %f' % MSE_SVR)\n",
    "RMSE_SVR = sqrt(MSE_SVR)\n",
    "print('RMSE_SVR: %f' % RMSE_SVR)\n"
   ]
  },
  {
   "cell_type": "code",
   "execution_count": 76,
   "metadata": {},
   "outputs": [
    {
     "data": {
      "image/png": "[encoded data removed]",
      "text/plain": [
       "<Figure size 432x288 with 1 Axes>"
      ]
     },
     "metadata": {
      "needs_background": "light"
     },
     "output_type": "display_data"
    }
   ],
   "source": [
    "# make Linear Regression model\n",
    "\n",
    "Linear_Reg = LinearRegression()\n",
    "Linear_Reg.fit(X_train, y_train)\n",
    "\n",
    "predict_Linear_Reg=Linear_Reg.predict(X_test)\n",
    "\n",
    "plt.scatter(y_test,predict_Linear_Reg)\n",
    "plt.xlabel('Calculated vmaf')\n",
    "plt.ylabel('Predicted vmaf')\n",
    "plt.title('Linear Regression')\n",
    "\n",
    "desire_lin = pd.concat([pd.DataFrame(y_test) ,pd.DataFrame(predict_Linear_Reg)], axis = 1);\n",
    "desire_lin.to_excel('LinearRegression.xlsx');\n"
   ]
  },
  {
   "cell_type": "code",
   "execution_count": 77,
   "metadata": {},
   "outputs": [
    {
     "name": "stdout",
     "output_type": "stream",
     "text": [
      "Corr_Li 0.9301710201859431\n",
      "MSE_LiReg: 132.615021\n",
      "RMSE_LiReg: 11.515860\n"
     ]
    }
   ],
   "source": [
    "# Calculate Linear Regression correlation , MSE and RMSE\n",
    "\n",
    "print('Corr_Li',np.corrcoef(y_test , predict_Linear_Reg)[0][1])\n",
    "MSE_Li=MSE(y_test, predict_Linear_Reg)\n",
    "print('MSE_LiReg: %f' % MSE_Li)\n",
    "RMSE_Li = sqrt(MSE_Li)\n",
    "print('RMSE_LiReg: %f' % RMSE_Li)\n"
   ]
  },
  {
   "cell_type": "code",
   "execution_count": 78,
   "metadata": {},
   "outputs": [
    {
     "data": {
      "image/png": "[encoded data removed]",
      "text/plain": [
       "<Figure size 432x288 with 1 Axes>"
      ]
     },
     "metadata": {
      "needs_background": "light"
     },
     "output_type": "display_data"
    }
   ],
   "source": [
    "# Make RF model\n",
    "\n",
    "\n",
    "# model with 2000 decision trees\n",
    "randomforest = RandomForestRegressor(n_estimators = 2000, random_state = 42)\n",
    "\n",
    "# Train model on train data\n",
    "randomforest.fit(X_train, y_train)\n",
    "\n",
    "prediction_rf=randomforest.predict(X_test)\n",
    "plt.scatter(y_test,prediction_rf)\n",
    "plt.xlabel('Calculated vmaf')\n",
    "plt.ylabel('Predicted vmaf')\n",
    "plt.title('Random Forest Regression')\n",
    "data_frame_rf = pd.concat([pd.DataFrame(y_test) ,pd.DataFrame(prediction_rf)], axis = 1);\n",
    "data_frame_rf.to_excel('RF.xlsx');"
   ]
  },
  {
   "cell_type": "code",
   "execution_count": 79,
   "metadata": {},
   "outputs": [
    {
     "name": "stdout",
     "output_type": "stream",
     "text": [
      "Corr_rf 0.9936643948379624\n",
      "MSE: 12.406028\n",
      "RMSE: 3.568147\n"
     ]
    }
   ],
   "source": [
    "print('Corr_rf',np.corrcoef(y_test , prediction_rf)[0][1])\n",
    "MSE_RF = MSE(y_test, prediction_rf)\n",
    "print('MSE: %f' % MSE_RF)\n",
    "rsme_RF = sqrt(MSE_RF)\n",
    "print('RMSE: %f' % rmse_RF)"
   ]
  },
  {
   "cell_type": "code",
   "execution_count": null,
   "metadata": {},
   "outputs": [],
   "source": []
  }
 ],
 "metadata": {
  "kernelspec": {
   "display_name": "Python 3",
   "language": "python",
   "name": "python3"
  },
  "language_info": {
   "codemirror_mode": {
    "name": "ipython",
    "version": 3
   },
   "file_extension": ".py",
   "mimetype": "text/x-python",
   "name": "python",
   "nbconvert_exporter": "python",
   "pygments_lexer": "ipython3",
   "version": "3.7.3"
  }
 },
 "nbformat": 4,
 "nbformat_minor": 2
}
